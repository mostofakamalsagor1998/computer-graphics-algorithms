{
 "cells": [
  {
   "cell_type": "markdown",
   "metadata": {},
   "source": [
    "<font color='red'><h3>Coordinate Shifting</h3></font>"
   ]
  },
  {
   "cell_type": "code",
   "execution_count": null,
   "metadata": {},
   "outputs": [],
   "source": [
    "class Coordinate:\n",
    "    def __init__(self,x,y):\n",
    "        self.x=x\n",
    "        self.y=y\n",
    "        \n",
    "    def right(self,r):\n",
    "        self.x+=r\n",
    "        \n",
    "    def left(self,l):\n",
    "        self.x-=l\n",
    "        \n",
    "    def up(self,u):\n",
    "        self.y+=u\n",
    "        \n",
    "    def down(self,d):\n",
    "        self.y-=d\n",
    "        \n",
    "    def rightUP(self,r,u):\n",
    "        self.right(r)\n",
    "        self.up(u)\n",
    "        return self.x,self.y\n",
    "    \n",
    "    def rightDown(self,r,d):\n",
    "        self.right(r)\n",
    "        self.down(d) \n",
    "        return self.x,self.y\n",
    "    \n",
    "    def leftUP(self,l,u):\n",
    "        self.left(l)\n",
    "        self.up(u)\n",
    "        return self.x,self.y\n",
    "    \n",
    "    def leftDown(self,l,d):\n",
    "        self.left(l)\n",
    "        self.down(d) \n",
    "        return self.x,self.y\n",
    "    \n",
    "    def midPoint(self,other):\n",
    "        return round((self.x+other.x)/2),round((self.y+other.y)/2)"
   ]
  },
  {
   "cell_type": "markdown",
   "metadata": {},
   "source": [
    "<h4>Equilateral Triangle</h4>"
   ]
  },
  {
   "cell_type": "markdown",
   "metadata": {},
   "source": [
    "<img src='https://dr282zn36sxxg.cloudfront.net/datastreams/f-d%3A8f7eede1204302418e1424f330dc88db79a35babad10dfc3d161f618%2BIMAGE_TINY%2BIMAGE_TINY.1' width=200 height=200>"
   ]
  },
  {
   "cell_type": "markdown",
   "metadata": {},
   "source": [
    "<h4>Set Tranlation</h4>"
   ]
  },
  {
   "cell_type": "code",
   "execution_count": null,
   "metadata": {},
   "outputs": [],
   "source": [
    "# right-left...\n",
    "p=\n",
    "# up-down...\n",
    "q="
   ]
  },
  {
   "cell_type": "markdown",
   "metadata": {},
   "source": [
    "<h4>Set A</h4>"
   ]
  },
  {
   "cell_type": "code",
   "execution_count": null,
   "metadata": {},
   "outputs": [],
   "source": [
    "ax,ay=\n",
    "A=Coordinate(ax,ay)\n",
    "# A.rightUP(p,q)\n",
    "# A.rightDown(p,q)\n",
    "# A.leftUP(p,q)\n",
    "# A.leftDown(p,q)"
   ]
  },
  {
   "cell_type": "markdown",
   "metadata": {},
   "source": [
    "<h4>Set B</h4>"
   ]
  },
  {
   "cell_type": "code",
   "execution_count": null,
   "metadata": {},
   "outputs": [],
   "source": [
    "bx,by=\n",
    "B=Coordinate(bx,by)\n",
    "# B.rightUP(p,q)\n",
    "# B.rightDown(p,q)\n",
    "# B.leftUP(p,q)\n",
    "# B.leftDown(p,q)"
   ]
  },
  {
   "cell_type": "markdown",
   "metadata": {},
   "source": [
    "<h4>Set C</h4>"
   ]
  },
  {
   "cell_type": "code",
   "execution_count": null,
   "metadata": {},
   "outputs": [],
   "source": [
    "cx,cy=\n",
    "C=Coordinate(cx,cy)\n",
    "# C.rightUP(p,q)\n",
    "# C.rightDown(p,q)\n",
    "# C.leftUP(p,q)\n",
    "# C.leftDown(p,q)"
   ]
  },
  {
   "cell_type": "markdown",
   "metadata": {},
   "source": [
    "<h4>Mid Point of Two Points</h4>"
   ]
  },
  {
   "cell_type": "code",
   "execution_count": null,
   "metadata": {},
   "outputs": [],
   "source": [
    "A.midPoint(B)"
   ]
  },
  {
   "cell_type": "code",
   "execution_count": null,
   "metadata": {},
   "outputs": [],
   "source": [
    "B.midPoint(C)"
   ]
  },
  {
   "cell_type": "code",
   "execution_count": null,
   "metadata": {},
   "outputs": [],
   "source": [
    "C.midPoint(A)"
   ]
  },
  {
   "cell_type": "markdown",
   "metadata": {},
   "source": [
    "<font color='red'><h3>Imported Libraries</h3></font>"
   ]
  },
  {
   "cell_type": "code",
   "execution_count": null,
   "metadata": {},
   "outputs": [],
   "source": [
    "import numpy as np\n",
    "import math"
   ]
  },
  {
   "cell_type": "markdown",
   "metadata": {},
   "source": [
    "<font color='red'><h3>Transformation 2D(Functions)</h3></font>"
   ]
  },
  {
   "cell_type": "code",
   "execution_count": null,
   "metadata": {},
   "outputs": [],
   "source": [
    "def T_pos_hk(h,k):\n",
    "    return np.array([\n",
    "        [1,0,h],\n",
    "        [0,1,k],\n",
    "        [0,0,1]])\n",
    "\n",
    "def T_neg_hk(h,k):\n",
    "    return np.array([\n",
    "        [1,0,-h],\n",
    "        [0,1,-k],\n",
    "        [0,0,1]\n",
    "    ])\n",
    "\n",
    "def R_theta(theta):\n",
    "    sine=None\n",
    "    cosine=None\n",
    "    if theta in [math.pi/2,-math.pi/2,0]:\n",
    "        sine=round(math.sin(theta))\n",
    "        cosine=round(math.cos(theta))\n",
    "    else:\n",
    "        sine=round(math.sin(theta),3)\n",
    "        cosine=round(math.cos(theta),3) \n",
    "    return np.array([\n",
    "        [cosine,-sine,0],\n",
    "        [sine,cosine,0],\n",
    "        [0,0,1]\n",
    "    ])\n",
    "\n",
    "def S(s):\n",
    "    return np.array([\n",
    "        [s,0,0],\n",
    "        [0,s,0],\n",
    "        [0,0,1]\n",
    "    ])\n",
    "\n",
    "def C(h,k,theta,s):\n",
    "    if theta!=None:\n",
    "        return np.matmul(np.matmul(T_pos_hk(h,k),R_theta(theta)),T_neg_hk(h,k))\n",
    "    else:\n",
    "        return np.matmul(np.matmul(T_pos_hk(h,k),S(s)),T_neg_hk(h,k))\n",
    "        \n",
    "\n",
    "def L(h,k,theta):\n",
    "    M_x=np.array([\n",
    "            [1,0,0],\n",
    "            [0,-1,0],\n",
    "            [0,0,1]\n",
    "    ])\n",
    "    M=np.matmul(np.matmul(np.matmul(np.matmul(T_pos_hk(h,k),R_theta(theta)),M_x),R_theta(-theta)),T_neg_hk(h,k))\n",
    "    return M\n",
    "\n",
    "def Transformation2D(a,b,M):\n",
    "    P_old=np.array([\n",
    "        [a],\n",
    "        [b],\n",
    "        [1]\n",
    "    ])\n",
    "    \n",
    "    P_new=np.matmul(M,P_old)\n",
    "    \n",
    "    #ROUNDING...\n",
    "#     P_new[0][0]=round(P_new[0][0])\n",
    "#     P_new[1][0]=round(P_new[1][0])\n",
    "#     P_new[2][0]=round(P_new[2][0])\n",
    "    \n",
    "    return P_old,P_new"
   ]
  },
  {
   "cell_type": "markdown",
   "metadata": {},
   "source": [
    "<FONT COLOR='RED'><h4>Point : (h,k)</h4></FONT>"
   ]
  },
  {
   "cell_type": "code",
   "execution_count": null,
   "metadata": {},
   "outputs": [],
   "source": [
    "# ...1\n",
    "h,k="
   ]
  },
  {
   "cell_type": "code",
   "execution_count": null,
   "metadata": {},
   "outputs": [],
   "source": [
    "# ...2\n",
    "# math.sqrt()\n",
    "b=\n",
    "h,k=0,b"
   ]
  },
  {
   "cell_type": "markdown",
   "metadata": {},
   "source": [
    "<FONT COLOR='BLUE'><h4>Translation Matrix(h,k)</h4></FONT>"
   ]
  },
  {
   "cell_type": "code",
   "execution_count": null,
   "metadata": {},
   "outputs": [],
   "source": [
    "T_pos_hk(h,k)"
   ]
  },
  {
   "cell_type": "markdown",
   "metadata": {},
   "source": [
    "<FONT COLOR='BLUE'><h4>Translation Matrix(-h,-k)</h4></FONT>"
   ]
  },
  {
   "cell_type": "code",
   "execution_count": null,
   "metadata": {},
   "outputs": [],
   "source": [
    "T_neg_hk(h,k)"
   ]
  },
  {
   "cell_type": "markdown",
   "metadata": {},
   "source": [
    "<FONT COLOR='RED'><h4>Set Rotation</h4></FONT>"
   ]
  },
  {
   "cell_type": "code",
   "execution_count": null,
   "metadata": {},
   "outputs": [],
   "source": [
    "# ...1\n",
    "# COUNTERCLOCK WISE --> POSITIVE ANGLE\n",
    "# CLOCK WISE --> NEGATIVE ANGLE\n",
    "\n",
    "# n --> {1:180,2:90,3:60,4:45,5:36,6:30,7:25.71,8:22.5,9:20,10:18}\n",
    "n=\n",
    "T=math.pi/n\n",
    "# T=-math.pi/n\n",
    "T"
   ]
  },
  {
   "cell_type": "code",
   "execution_count": null,
   "metadata": {},
   "outputs": [],
   "source": [
    "# ...2\n",
    "m=\n",
    "d=180/math.degrees(math.atan(m))\n",
    "T=math.pi/d\n",
    "T"
   ]
  },
  {
   "cell_type": "markdown",
   "metadata": {},
   "source": [
    "<FONT COLOR='BLUE'><h4>Rotation(T)</h4></FONT>"
   ]
  },
  {
   "cell_type": "code",
   "execution_count": null,
   "metadata": {},
   "outputs": [],
   "source": [
    "R_theta(T)"
   ]
  },
  {
   "cell_type": "markdown",
   "metadata": {},
   "source": [
    "<FONT COLOR='BLUE'><h4>Rotation(-T)</h4></FONT>"
   ]
  },
  {
   "cell_type": "code",
   "execution_count": null,
   "metadata": {},
   "outputs": [],
   "source": [
    "R_theta(-T)"
   ]
  },
  {
   "cell_type": "markdown",
   "metadata": {},
   "source": [
    "<FONT COLOR='GREEN'><h4>M, Composite Matrix(h, k, Theta)</h4></FONT>"
   ]
  },
  {
   "cell_type": "code",
   "execution_count": null,
   "metadata": {},
   "outputs": [],
   "source": [
    "M=C(h,k,T,None)\n",
    "M"
   ]
  },
  {
   "cell_type": "markdown",
   "metadata": {},
   "source": [
    "<FONT COLOR='GREEN'><h4>M, Composite Matrix(Reflection about the line, L)</h4></FONT>"
   ]
  },
  {
   "cell_type": "code",
   "execution_count": null,
   "metadata": {},
   "outputs": [],
   "source": [
    "M=L(h,k,T)\n",
    "M"
   ]
  },
  {
   "cell_type": "markdown",
   "metadata": {},
   "source": [
    "<FONT COLOR='RED'><h4>Set Scale</h4></FONT>"
   ]
  },
  {
   "cell_type": "code",
   "execution_count": null,
   "metadata": {},
   "outputs": [],
   "source": [
    "s="
   ]
  },
  {
   "cell_type": "markdown",
   "metadata": {},
   "source": [
    "<FONT COLOR='GREEN'><h4>M, Composite Matrix(Scaling/Times)</h4></FONT>"
   ]
  },
  {
   "cell_type": "code",
   "execution_count": null,
   "metadata": {},
   "outputs": [],
   "source": [
    "M=C(h,k,None,s)\n",
    "M"
   ]
  },
  {
   "cell_type": "markdown",
   "metadata": {},
   "source": [
    "<FONT COLOR='RED'><h4>Tranformed 2D Matrix</h4></FONT>"
   ]
  },
  {
   "cell_type": "code",
   "execution_count": null,
   "metadata": {},
   "outputs": [],
   "source": [
    "# Raw A\n",
    "a,b=\n",
    "P_old,Matrix=Transformation2D(a,b,M)"
   ]
  },
  {
   "cell_type": "code",
   "execution_count": null,
   "metadata": {},
   "outputs": [],
   "source": [
    "P_old"
   ]
  },
  {
   "cell_type": "code",
   "execution_count": null,
   "metadata": {},
   "outputs": [],
   "source": [
    "Matrix"
   ]
  },
  {
   "cell_type": "markdown",
   "metadata": {},
   "source": [
    "<FONT COLOR='RED'><h4>New Coordinate</h4></FONT>"
   ]
  },
  {
   "cell_type": "code",
   "execution_count": null,
   "metadata": {},
   "outputs": [],
   "source": [
    "Matrix[0][0],Matrix[1][0]"
   ]
  }
 ],
 "metadata": {
  "kernelspec": {
   "display_name": "Python 3",
   "language": "python",
   "name": "python3"
  },
  "language_info": {
   "codemirror_mode": {
    "name": "ipython",
    "version": 3
   },
   "file_extension": ".py",
   "mimetype": "text/x-python",
   "name": "python",
   "nbconvert_exporter": "python",
   "pygments_lexer": "ipython3",
   "version": "3.7.6"
  }
 },
 "nbformat": 4,
 "nbformat_minor": 4
}
