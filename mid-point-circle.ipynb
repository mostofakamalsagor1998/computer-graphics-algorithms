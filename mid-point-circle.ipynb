{
 "cells": [
  {
   "cell_type": "markdown",
   "metadata": {},
   "source": [
    "<h1>Mid Point Circle</h1>"
   ]
  },
  {
   "cell_type": "markdown",
   "metadata": {},
   "source": [
    "<img src='https://d24jp206mxeyfm.cloudfront.net/assets/courseware/v1/f7b800b23ab9ed33c4a02bffa0c5c163/asset-v1:buX+CSE423+2021_Spring+type@asset+block/quiz2.png' width=300 height=300>"
   ]
  },
  {
   "cell_type": "code",
   "execution_count": null,
   "metadata": {},
   "outputs": [],
   "source": [
    "import pandas as pd\n",
    "import matplotlib.pyplot as plt\n",
    "import random\n",
    "import math"
   ]
  },
  {
   "cell_type": "code",
   "execution_count": null,
   "metadata": {},
   "outputs": [],
   "source": [
    "# Zone conversion from zone 1...\n",
    "def zone0(x,y):\n",
    "    return y,x\n",
    "def zone1(x,y):\n",
    "    return x,y\n",
    "def zone2(x,y):\n",
    "    return -x,y\n",
    "def zone3(x,y):\n",
    "    return -y,x\n",
    "def zone4(x,y):\n",
    "    return -y,-x\n",
    "def zone5(x,y):\n",
    "    return -x,-y\n",
    "def zone6(x,y):\n",
    "    return x,-y\n",
    "def zone7(x,y):\n",
    "    return y,-x"
   ]
  },
  {
   "cell_type": "code",
   "execution_count": null,
   "metadata": {},
   "outputs": [],
   "source": [
    "def midPointCircleAtOrigin(R):\n",
    "    radius=R\n",
    "    d=[1-radius]\n",
    "    xt,yt=0,radius\n",
    "    \n",
    "    z0=[]\n",
    "    z1=[]\n",
    "    z2=[]\n",
    "    z3=[]\n",
    "    z4=[]\n",
    "    z5=[]\n",
    "    z6=[]\n",
    "    z7=[] \n",
    "    z=[(0,0)]\n",
    "    \n",
    "    i=0\n",
    "    \n",
    "    z0+=[zone0(xt,yt)]\n",
    "    z1+=[(xt,yt)]\n",
    "    z2+=[zone2(xt,yt)]\n",
    "    z3+=[zone3(xt,yt)]\n",
    "    z4+=[zone4(xt,yt)]\n",
    "    z5+=[zone5(xt,yt)]\n",
    "    z6+=[zone6(xt,yt)]\n",
    "    z7+=[zone7(xt,yt)]\n",
    "    \n",
    "    while xt<yt:\n",
    "        if d[i]<0:\n",
    "            #choose E\n",
    "            d+=[d[i]+2*xt+3]\n",
    "            xt=xt+1\n",
    "        else:\n",
    "            #choose SE\n",
    "            d+=[d[i]+2*xt-2*yt+5]\n",
    "            xt=xt+1\n",
    "            yt=yt-1\n",
    "        i+=1\n",
    "            \n",
    "        z0+=[zone0(xt,yt)]\n",
    "        z1+=[(xt,yt)]\n",
    "        z2+=[zone2(xt,yt)]\n",
    "        z3+=[zone3(xt,yt)]\n",
    "        z4+=[zone4(xt,yt)]\n",
    "        z5+=[zone5(xt,yt)]\n",
    "        z6+=[zone6(xt,yt)]\n",
    "        z7+=[zone7(xt,yt)]\n",
    "    z=z0+z1+z2+z3+z4+z5+z6+z7\n",
    "    drawCircle(z)\n",
    "               \n",
    "    info={\"d\":d,\"C(0,0)-Zone 0\":z0,\"C(0,0)-Zone 1(xt,yt)\":z1,\"C(0,0)-Zone 2\":z2,\"C(0,0)-Zone 3\":z3,\"C(0,0)-Zone 4\":z4,\"C(0,0)-Zone 5\":z5,\"C(0,0)-Zone 6\":z6,\"C(0,0)-Zone 7\":z7}\n",
    "    df=pd.DataFrame(info)\n",
    "    df = df.style.set_table_styles([dict(selector='th', props=[('text-align', 'center')])])\n",
    "    return df.set_properties(**{'text-align': 'center'}).hide_index()"
   ]
  },
  {
   "cell_type": "code",
   "execution_count": null,
   "metadata": {},
   "outputs": [],
   "source": [
    "def midPointCircleAtCenter(R,x,y):\n",
    "    radius=R\n",
    "    d=[1-radius]\n",
    "    xt,yt=0,radius\n",
    "    \n",
    "    o0=[]\n",
    "    o1=[]\n",
    "    o2=[]\n",
    "    o3=[]\n",
    "    o4=[]\n",
    "    o5=[]\n",
    "    o6=[]\n",
    "    o7=[]\n",
    "    z=[(x,y)]\n",
    "    \n",
    "    i=0\n",
    "    \n",
    "    \n",
    "    o0+=[(zone0(xt,yt)[0]+x,zone0(xt,yt)[1]+y)]\n",
    "    o1+=[(xt+x,yt+y)]\n",
    "    o2+=[(zone2(xt,yt)[0]+x,zone2(xt,yt)[1]+y)]\n",
    "    o3+=[(zone3(xt,yt)[0]+x,zone3(xt,yt)[1]+y)]\n",
    "    o4+=[(zone4(xt,yt)[0]+x,zone4(xt,yt)[1]+y)]\n",
    "    o5+=[(zone5(xt,yt)[0]+x,zone5(xt,yt)[1]+y)]\n",
    "    o6+=[(zone6(xt,yt)[0]+x,zone6(xt,yt)[1]+y)]\n",
    "    o7+=[(zone7(xt,yt)[0]+x,zone7(xt,yt)[1]+y)]\n",
    "    \n",
    "    while xt<yt:\n",
    "        if d[i]<0:\n",
    "            #choose E\n",
    "            d+=[d[i]+2*xt+3]\n",
    "            xt=xt+1\n",
    "        else:\n",
    "            #choose SE\n",
    "            d+=[d[i]+2*xt-2*yt+5]\n",
    "            xt=xt+1\n",
    "            yt=yt-1\n",
    "        i+=1\n",
    "        \n",
    "        o0+=[(zone0(xt,yt)[0]+x,zone0(xt,yt)[1]+y)]\n",
    "        o1+=[(xt+x,yt+y)]\n",
    "        o2+=[(zone2(xt,yt)[0]+x,zone2(xt,yt)[1]+y)]\n",
    "        o3+=[(zone3(xt,yt)[0]+x,zone3(xt,yt)[1]+y)]\n",
    "        o4+=[(zone4(xt,yt)[0]+x,zone4(xt,yt)[1]+y)]\n",
    "        o5+=[(zone5(xt,yt)[0]+x,zone5(xt,yt)[1]+y)]\n",
    "        o6+=[(zone6(xt,yt)[0]+x,zone6(xt,yt)[1]+y)]\n",
    "        o7+=[(zone7(xt,yt)[0]+x,zone7(xt,yt)[1]+y)]\n",
    "        \n",
    "    z=o0+o1+o2+o3+o4+o5+o6+o7\n",
    "    drawCircle(z)\n",
    "               \n",
    "    info={\"d\":d,f\"C({x},{y})-Zone 0\":o0,f\"C({x},{y})-Zone 1\":o1,f\"C({x},{y})-Zone 2\":o2,f\"C({x},{y})-Zone 3\":o3,f\"C({x},{y})-Zone 4\":o4,f\"C({x},{y})-Zone 5\":o5,f\"C({x},{y})-Zone 6\":o6,f\"C({x},{y})-Zone 7\":o7}\n",
    "    df=pd.DataFrame(info)\n",
    "    df = df.style.set_table_styles([dict(selector='th', props=[('text-align', 'center')])])\n",
    "    return df.set_properties(**{'text-align': 'center'}).hide_index()"
   ]
  },
  {
   "cell_type": "code",
   "execution_count": null,
   "metadata": {},
   "outputs": [],
   "source": [
    "def drawCircle(z):\n",
    "    x_points=[]\n",
    "    y_points=[]\n",
    "    c=['r','g','b']\n",
    "    m=['o', '.', ',', 'x', '+', 'v', '^', '<', '>', 's', 'd']\n",
    "    for x,y in z:\n",
    "        x_points+=[x]\n",
    "        y_points+=[y]\n",
    "        \n",
    "    #Axes limiting...\n",
    "    plt.xlim([min(x_points)-5, max(x_points)+5])\n",
    "    plt.ylim([min(y_points)-5, max(y_points)+5])\n",
    "    \n",
    "    # Set chart title...\n",
    "    plt.title(\"Circle\", fontsize=19)\n",
    "    \n",
    "    # Set x axis label...\n",
    "    plt.xlabel(\"X-Axis\", fontsize=10)\n",
    "    \n",
    "    # Set y axis label...\n",
    "    plt.ylabel(\"Y-Axis\", fontsize=10)\n",
    "    \n",
    "    # Set size of tick labels...\n",
    "    plt.tick_params(axis='both', which='major', labelsize=9)\n",
    "    \n",
    "    #Shuffling colors and markers...\n",
    "    random.shuffle(c)\n",
    "    random.shuffle(m)\n",
    "    \n",
    "    #Center...\n",
    "    center=plt.scatter(x_points[0],y_points[0],linewidth=2, color=c[0],marker=m[0],s=20)\n",
    "    \n",
    "    #Circle...\n",
    "    circle=plt.scatter(x_points[1:],y_points[1:],linewidth=1, color=c[1],marker=m[1],s=5)\n",
    "    \n",
    "    plt.show()"
   ]
  },
  {
   "cell_type": "markdown",
   "metadata": {},
   "source": [
    "<h4>Radius Calculation for Mid Point Circle</h4>"
   ]
  },
  {
   "cell_type": "markdown",
   "metadata": {},
   "source": [
    "<h5>Side, 'a' given.</h5>"
   ]
  },
  {
   "cell_type": "code",
   "execution_count": null,
   "metadata": {},
   "outputs": [],
   "source": [
    "# if side of a square is given\n",
    "# a=int(input(\"Side of a square : \")) #TEST VALUE: 16\n",
    "# Ox,Oy=list(map(int,input(\"Enter the center : \").split(\",\"))) #TEST VALUE: 92,11\n",
    "# S=Ox-a//2,Oy+a//2"
   ]
  },
  {
   "cell_type": "markdown",
   "metadata": {},
   "source": [
    "<h5>Diameter of the Cicle, 'd' given.</h5>"
   ]
  },
  {
   "cell_type": "code",
   "execution_count": null,
   "metadata": {},
   "outputs": [],
   "source": [
    "# if diameter of the circle is given...\n",
    "# d1=21,3\n",
    "# d2=-15,3\n",
    "# Ox,Oy=(d1[0]+d2[0])//2,(d1[1]+d2[1])//2\n",
    "# s=d1"
   ]
  },
  {
   "cell_type": "markdown",
   "metadata": {},
   "source": [
    "<h5>R</h5>"
   ]
  },
  {
   "cell_type": "code",
   "execution_count": null,
   "metadata": {},
   "outputs": [],
   "source": [
    "# Calculation of Radius...\n",
    "# R=int(math.sqrt((Ox-S[0])**2+(Oy-S[1])**2))\n",
    "# print(\"R :\",R)"
   ]
  },
  {
   "cell_type": "markdown",
   "metadata": {},
   "source": [
    "<h4>Function Calling</h4>"
   ]
  },
  {
   "cell_type": "code",
   "execution_count": null,
   "metadata": {},
   "outputs": [],
   "source": [
    "# FUNCTION CALLING...\n",
    "\n",
    "R=\n",
    "table1=midPointCircleAtOrigin(R)"
   ]
  },
  {
   "cell_type": "code",
   "execution_count": null,
   "metadata": {},
   "outputs": [],
   "source": [
    "table1"
   ]
  },
  {
   "cell_type": "code",
   "execution_count": null,
   "metadata": {},
   "outputs": [],
   "source": [
    "# FUNCTION CALLING...\n",
    "R=11\n",
    "Ox,Oy=92, 11\n",
    "table2=midPointCircleAtCenter(R,Ox,Oy)"
   ]
  },
  {
   "cell_type": "code",
   "execution_count": null,
   "metadata": {},
   "outputs": [],
   "source": [
    "table2"
   ]
  }
 ],
 "metadata": {
  "kernelspec": {
   "display_name": "Python 3",
   "language": "python",
   "name": "python3"
  },
  "language_info": {
   "codemirror_mode": {
    "name": "ipython",
    "version": 3
   },
   "file_extension": ".py",
   "mimetype": "text/x-python",
   "name": "python",
   "nbconvert_exporter": "python",
   "pygments_lexer": "ipython3",
   "version": "3.7.6"
  }
 },
 "nbformat": 4,
 "nbformat_minor": 4
}
