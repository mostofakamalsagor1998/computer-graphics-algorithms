{
 "cells": [
  {
   "cell_type": "markdown",
   "metadata": {},
   "source": [
    "<h1>Co-ordinates of a Quadrilateral</h1>"
   ]
  },
  {
   "cell_type": "code",
   "execution_count": null,
   "metadata": {},
   "outputs": [],
   "source": [
    "def findCoordinatesOfSqaure():\n",
    "    p=int(input(\"Enter parallel distance : \")) #TEST VALUE: 59\n",
    "    q=int(input(\"Enter parpendicular distance : \")) #TEST VALUE: 42\n",
    "    A=x,y=tuple(map(int,input(\"Enter co-ordinate for A : \").split(\",\"))) #TEST VALUE: 119,66\n",
    "    B=p+x,y\n",
    "    C=p+x,q+y\n",
    "    D=x,q+y\n",
    "    print(\"A : \",A)\n",
    "    print(\"B : \",B)\n",
    "    print(\"C : \",C)\n",
    "    print(\"D : \",D)"
   ]
  },
  {
   "cell_type": "code",
   "execution_count": null,
   "metadata": {},
   "outputs": [],
   "source": [
    "# FUNCTION CALLING...\n",
    "findCoordinatesOfSqaure()"
   ]
  },
  {
   "cell_type": "markdown",
   "metadata": {},
   "source": [
    "<h1>DDA</h1>"
   ]
  },
  {
   "cell_type": "code",
   "execution_count": null,
   "metadata": {},
   "outputs": [],
   "source": [
    "def DDA(A,B):\n",
    "    x1,y1=A\n",
    "    x2,y2=B\n",
    "    \n",
    "    axis=[]\n",
    "    pixel=[]\n",
    "\n",
    "    m=(y2-y1)/(x2-x1)\n",
    "    m=round(m,2)\n",
    "\n",
    "    print(f\"m = {m}\")\n",
    "    c=y1-m*x1\n",
    "    print(f\"c = {round(c)}\")\n",
    "\n",
    "    count=0\n",
    "\n",
    "    n=int(input(\">>>How many points you want to see ? \\n>>>\"))\n",
    "    flag=int(input(\">>>Front : 0 , Rear : 1\\n>>>\"))\n",
    "    if flag==0:\n",
    "        if -1<m<1:\n",
    "            y=y1\n",
    "            axis.append((x1,round(y1,2)))\n",
    "            pixel.append((x1,round(y1)))\n",
    "            count+=1\n",
    "            for x in range(x1+1,x2):\n",
    "                if count==n:\n",
    "                    break\n",
    "                else:\n",
    "                    y+=m\n",
    "                    count+=1\n",
    "                    axis.append((x,round(y,2)))\n",
    "                    pixel.append((x,round(y)))\n",
    "        else:\n",
    "            x=x1 \n",
    "            axis.append((round(x1,2),y1))\n",
    "            pixel.append((round(x1),y1))\n",
    "            count+=1\n",
    "            for y in range(y1+1,y2):\n",
    "                if count==n:\n",
    "                    break\n",
    "                else:\n",
    "                    x+=1/m\n",
    "                    count+=1\n",
    "                    axis.append((round(x,2),y))\n",
    "                    pixel.append((round(x),y))\n",
    "    else:\n",
    "        if -1<m<1:\n",
    "            y=y2\n",
    "            axis.append((x2,round(y2,2)))\n",
    "            pixel.append((x2,round(y2)))\n",
    "            count+=1\n",
    "            for x in range(x2-1,x1,-1):\n",
    "                if count==n:\n",
    "                    break\n",
    "                else:\n",
    "                    y-=m\n",
    "                    count+=1\n",
    "                    axis.append((x,round(y,2)))\n",
    "                    pixel.append((x,round(y)))\n",
    "        else:\n",
    "            x=x2\n",
    "            axis.append((round(x2,2),y2))\n",
    "            pixel.append((round(x2),y2))\n",
    "            count+=1\n",
    "            for y in range(y2-1,y1,-1):\n",
    "                if count==n:\n",
    "                    break\n",
    "                else:\n",
    "                    x-=1/m\n",
    "                    count+=1\n",
    "                    axis.append((round(x,2),y))\n",
    "                    pixel.append((round(x),y))\n",
    "\n",
    "    print(\"\\n>>>Co-ordinates\\n\")\n",
    "    print(axis[:n])\n",
    "    print(\"\\n>>>Pixels\\n\")\n",
    "    print(pixel[:n])\n"
   ]
  },
  {
   "cell_type": "code",
   "execution_count": null,
   "metadata": {},
   "outputs": [],
   "source": [
    "# FUNCTION CALLING...\n",
    "x1,y1=list(map(int,input(\"Enter the starting point (x low) : \").split(\",\"))) #TEST VALUE: -14,0\n",
    "x2,y2=list(map(int,input(\"Enter the ending point (x high) : \").split(\",\"))) #TEST VALUE: 0,190\n",
    "if x1<x2:\n",
    "    DDA((x1,y1),(x2,y2))\n",
    "else:\n",
    "    DDA((x2,y2),(x1,y1))"
   ]
  }
 ],
 "metadata": {
  "kernelspec": {
   "display_name": "Python 3",
   "language": "python",
   "name": "python3"
  },
  "language_info": {
   "codemirror_mode": {
    "name": "ipython",
    "version": 3
   },
   "file_extension": ".py",
   "mimetype": "text/x-python",
   "name": "python",
   "nbconvert_exporter": "python",
   "pygments_lexer": "ipython3",
   "version": "3.7.6"
  }
 },
 "nbformat": 4,
 "nbformat_minor": 4
}
